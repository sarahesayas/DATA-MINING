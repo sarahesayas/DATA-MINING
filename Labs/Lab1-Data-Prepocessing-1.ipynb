{
 "cells": [
  {
   "cell_type": "markdown",
   "id": "ecb4e53d-a8b9-463e-9da6-94924a6ab8f8",
   "metadata": {},
   "source": [
    "# Week 3 - Lab 1 Data Preprocessing-I"
   ]
  },
  {
   "cell_type": "markdown",
   "id": "772c09f8-bad1-4f07-ac3d-0ab7865a5526",
   "metadata": {},
   "source": [
    "# Check Data"
   ]
  },
  {
   "cell_type": "code",
   "execution_count": 95,
   "id": "b60c5ab5-1014-474a-a1b6-1d8692d0f745",
   "metadata": {},
   "outputs": [
    {
     "data": {
      "text/html": [
       "<div>\n",
       "<style scoped>\n",
       "    .dataframe tbody tr th:only-of-type {\n",
       "        vertical-align: middle;\n",
       "    }\n",
       "\n",
       "    .dataframe tbody tr th {\n",
       "        vertical-align: top;\n",
       "    }\n",
       "\n",
       "    .dataframe thead th {\n",
       "        text-align: right;\n",
       "    }\n",
       "</style>\n",
       "<table border=\"1\" class=\"dataframe\">\n",
       "  <thead>\n",
       "    <tr style=\"text-align: right;\">\n",
       "      <th></th>\n",
       "      <th>Genre</th>\n",
       "      <th>Rotten Tomatoes</th>\n",
       "      <th>IMDB</th>\n",
       "      <th>Audience Ratings</th>\n",
       "      <th>Budget_M</th>\n",
       "      <th>Sales Revenue_M</th>\n",
       "      <th>Year of Release</th>\n",
       "    </tr>\n",
       "  </thead>\n",
       "  <tbody>\n",
       "    <tr>\n",
       "      <th>0</th>\n",
       "      <td>Horror</td>\n",
       "      <td>125</td>\n",
       "      <td>5.0</td>\n",
       "      <td>3968</td>\n",
       "      <td>74.348337</td>\n",
       "      <td>31.356476</td>\n",
       "      <td>2020</td>\n",
       "    </tr>\n",
       "    <tr>\n",
       "      <th>1</th>\n",
       "      <td>Romance</td>\n",
       "      <td>84</td>\n",
       "      <td>9.8</td>\n",
       "      <td>8150</td>\n",
       "      <td>28.243154</td>\n",
       "      <td>212.016126</td>\n",
       "      <td>2013</td>\n",
       "    </tr>\n",
       "    <tr>\n",
       "      <th>2</th>\n",
       "      <td>SciFi</td>\n",
       "      <td>75</td>\n",
       "      <td>2.0</td>\n",
       "      <td>1040</td>\n",
       "      <td>164.601429</td>\n",
       "      <td>129.342033</td>\n",
       "      <td>2017</td>\n",
       "    </tr>\n",
       "    <tr>\n",
       "      <th>3</th>\n",
       "      <td>Action</td>\n",
       "      <td>68</td>\n",
       "      <td>7.9</td>\n",
       "      <td>6250</td>\n",
       "      <td>38.779734</td>\n",
       "      <td>424.519154</td>\n",
       "      <td>2019</td>\n",
       "    </tr>\n",
       "    <tr>\n",
       "      <th>4</th>\n",
       "      <td>Thriller</td>\n",
       "      <td>6</td>\n",
       "      <td>4.7</td>\n",
       "      <td>8356</td>\n",
       "      <td>102.752477</td>\n",
       "      <td>16.652313</td>\n",
       "      <td>2012</td>\n",
       "    </tr>\n",
       "  </tbody>\n",
       "</table>\n",
       "</div>"
      ],
      "text/plain": [
       "      Genre  Rotten Tomatoes  IMDB  Audience Ratings    Budget_M  \\\n",
       "0    Horror              125   5.0              3968   74.348337   \n",
       "1   Romance               84   9.8              8150   28.243154   \n",
       "2     SciFi               75   2.0              1040  164.601429   \n",
       "3    Action               68   7.9              6250   38.779734   \n",
       "4  Thriller                6   4.7              8356  102.752477   \n",
       "\n",
       "   Sales Revenue_M Year of Release  \n",
       "0        31.356476            2020  \n",
       "1       212.016126            2013  \n",
       "2       129.342033            2017  \n",
       "3       424.519154            2019  \n",
       "4        16.652313            2012  "
      ]
     },
     "execution_count": 95,
     "metadata": {},
     "output_type": "execute_result"
    }
   ],
   "source": [
    "import numpy as np\n",
    "import pandas as pd\n",
    "import matplotlib.pyplot as plt\n",
    "import seaborn as sns\n",
    "\n",
    "df=pd.read_csv('movie1.csv')\n",
    "df.head()"
   ]
  },
  {
   "cell_type": "code",
   "execution_count": 96,
   "id": "f1f8ae1e-2880-4ee3-9400-035f3c129159",
   "metadata": {},
   "outputs": [
    {
     "data": {
      "text/html": [
       "<div>\n",
       "<style scoped>\n",
       "    .dataframe tbody tr th:only-of-type {\n",
       "        vertical-align: middle;\n",
       "    }\n",
       "\n",
       "    .dataframe tbody tr th {\n",
       "        vertical-align: top;\n",
       "    }\n",
       "\n",
       "    .dataframe thead th {\n",
       "        text-align: right;\n",
       "    }\n",
       "</style>\n",
       "<table border=\"1\" class=\"dataframe\">\n",
       "  <thead>\n",
       "    <tr style=\"text-align: right;\">\n",
       "      <th></th>\n",
       "      <th>Rotten Tomatoes</th>\n",
       "      <th>IMDB</th>\n",
       "      <th>Audience Ratings</th>\n",
       "      <th>Budget_M</th>\n",
       "      <th>Sales Revenue_M</th>\n",
       "    </tr>\n",
       "  </thead>\n",
       "  <tbody>\n",
       "    <tr>\n",
       "      <th>count</th>\n",
       "      <td>101.000000</td>\n",
       "      <td>101.000000</td>\n",
       "      <td>101.000000</td>\n",
       "      <td>101.000000</td>\n",
       "      <td>96.000000</td>\n",
       "    </tr>\n",
       "    <tr>\n",
       "      <th>mean</th>\n",
       "      <td>53.554455</td>\n",
       "      <td>5.562376</td>\n",
       "      <td>5272.663366</td>\n",
       "      <td>5456.333862</td>\n",
       "      <td>239.422768</td>\n",
       "    </tr>\n",
       "    <tr>\n",
       "      <th>std</th>\n",
       "      <td>33.764323</td>\n",
       "      <td>2.608864</td>\n",
       "      <td>2891.578546</td>\n",
       "      <td>25371.661518</td>\n",
       "      <td>156.248835</td>\n",
       "    </tr>\n",
       "    <tr>\n",
       "      <th>min</th>\n",
       "      <td>0.000000</td>\n",
       "      <td>1.100000</td>\n",
       "      <td>437.000000</td>\n",
       "      <td>3.274064</td>\n",
       "      <td>6.018111</td>\n",
       "    </tr>\n",
       "    <tr>\n",
       "      <th>25%</th>\n",
       "      <td>26.000000</td>\n",
       "      <td>3.300000</td>\n",
       "      <td>2711.000000</td>\n",
       "      <td>48.764034</td>\n",
       "      <td>118.330717</td>\n",
       "    </tr>\n",
       "    <tr>\n",
       "      <th>50%</th>\n",
       "      <td>52.000000</td>\n",
       "      <td>5.400000</td>\n",
       "      <td>5410.000000</td>\n",
       "      <td>92.511321</td>\n",
       "      <td>208.085811</td>\n",
       "    </tr>\n",
       "    <tr>\n",
       "      <th>75%</th>\n",
       "      <td>77.000000</td>\n",
       "      <td>7.700000</td>\n",
       "      <td>7734.000000</td>\n",
       "      <td>155.704105</td>\n",
       "      <td>379.441128</td>\n",
       "    </tr>\n",
       "    <tr>\n",
       "      <th>max</th>\n",
       "      <td>142.000000</td>\n",
       "      <td>9.900000</td>\n",
       "      <td>9882.000000</td>\n",
       "      <td>160159.381000</td>\n",
       "      <td>497.200395</td>\n",
       "    </tr>\n",
       "  </tbody>\n",
       "</table>\n",
       "</div>"
      ],
      "text/plain": [
       "       Rotten Tomatoes        IMDB  Audience Ratings       Budget_M  \\\n",
       "count       101.000000  101.000000        101.000000     101.000000   \n",
       "mean         53.554455    5.562376       5272.663366    5456.333862   \n",
       "std          33.764323    2.608864       2891.578546   25371.661518   \n",
       "min           0.000000    1.100000        437.000000       3.274064   \n",
       "25%          26.000000    3.300000       2711.000000      48.764034   \n",
       "50%          52.000000    5.400000       5410.000000      92.511321   \n",
       "75%          77.000000    7.700000       7734.000000     155.704105   \n",
       "max         142.000000    9.900000       9882.000000  160159.381000   \n",
       "\n",
       "       Sales Revenue_M  \n",
       "count        96.000000  \n",
       "mean        239.422768  \n",
       "std         156.248835  \n",
       "min           6.018111  \n",
       "25%         118.330717  \n",
       "50%         208.085811  \n",
       "75%         379.441128  \n",
       "max         497.200395  "
      ]
     },
     "execution_count": 96,
     "metadata": {},
     "output_type": "execute_result"
    }
   ],
   "source": [
    "# Mean, Median, Mode/Frequent Category\n",
    "df.describe()"
   ]
  },
  {
   "cell_type": "code",
   "execution_count": 97,
   "id": "d0b609ab-1f86-4399-a626-74188f05e1ea",
   "metadata": {
    "scrolled": true
   },
   "outputs": [
    {
     "name": "stdout",
     "output_type": "stream",
     "text": [
      "Missing data:\n",
      " Genre               0\n",
      "Rotten Tomatoes     0\n",
      "IMDB                0\n",
      "Audience Ratings    0\n",
      "Budget_M            0\n",
      "Sales Revenue_M     5\n",
      "Year of Release     0\n",
      "dtype: int64\n"
     ]
    }
   ],
   "source": [
    "# Check for missing variables\n",
    "missing_data=df.isnull().sum()\n",
    "print(\"Missing data:\\n\", missing_data)"
   ]
  },
  {
   "cell_type": "code",
   "execution_count": 98,
   "id": "a5e1c977-6f82-49d2-9fea-14f72baad67e",
   "metadata": {
    "scrolled": true
   },
   "outputs": [
    {
     "name": "stdout",
     "output_type": "stream",
     "text": [
      "Genre                object\n",
      "Rotten Tomatoes       int64\n",
      "IMDB                float64\n",
      "Audience Ratings      int64\n",
      "Budget_M            float64\n",
      "Sales Revenue_M     float64\n",
      "Year of Release      object\n",
      "dtype: object\n"
     ]
    }
   ],
   "source": [
    "# Check data types **\n",
    "data_types=df.dtypes\n",
    "print(data_types)"
   ]
  },
  {
   "cell_type": "code",
   "execution_count": 99,
   "id": "43da6db0-2ef4-4d24-842a-3b76f5928b5c",
   "metadata": {},
   "outputs": [],
   "source": [
    "year_num={'Year 2004':2004,\n",
    "          'Year 2008':2008,\n",
    "          'Year 2023':2023,\n",
    "          'Year 1982':1982,\n",
    "          'Year 2001':2001}\n",
    "\n",
    "df['Year of Release']=df['Year of Release'].replace(year_num)\n",
    "df['Year of Release']=pd.to_numeric(df['Year of Release'])"
   ]
  },
  {
   "cell_type": "code",
   "execution_count": 100,
   "id": "b8329d70-f886-4ca8-9626-e625797f1423",
   "metadata": {},
   "outputs": [
    {
     "name": "stdout",
     "output_type": "stream",
     "text": [
      "Genre                object\n",
      "Rotten Tomatoes       int64\n",
      "IMDB                float64\n",
      "Audience Ratings      int64\n",
      "Budget_M            float64\n",
      "Sales Revenue_M     float64\n",
      "Year of Release       int64\n",
      "dtype: object\n"
     ]
    }
   ],
   "source": [
    "data_types=df.dtypes\n",
    "print(data_types)"
   ]
  },
  {
   "cell_type": "code",
   "execution_count": 101,
   "id": "f3274b5a-b67d-4b2e-b6b9-a72ab4582fd1",
   "metadata": {},
   "outputs": [
    {
     "name": "stdout",
     "output_type": "stream",
     "text": [
      "Number of Duplicate Records:  1\n"
     ]
    }
   ],
   "source": [
    "# Check for duplication\n",
    "duplicates=df.duplicated().sum()\n",
    "print(\"Number of Duplicate Records: \", duplicates)"
   ]
  },
  {
   "cell_type": "code",
   "execution_count": 102,
   "id": "3107139e-f57a-4534-835d-9acd7c277187",
   "metadata": {},
   "outputs": [],
   "source": [
    "df=df.drop_duplicates()"
   ]
  },
  {
   "cell_type": "code",
   "execution_count": 103,
   "id": "4f8062fb-0152-46fd-b379-a56d7f1ded41",
   "metadata": {},
   "outputs": [
    {
     "name": "stdout",
     "output_type": "stream",
     "text": [
      "Number of Duplicate Records:  0\n"
     ]
    }
   ],
   "source": [
    "duplicates=df.duplicated().sum()\n",
    "print(\"Number of Duplicate Records: \", duplicates)"
   ]
  },
  {
   "cell_type": "code",
   "execution_count": 104,
   "id": "b45f569d-330c-4d35-b2a3-2dd3dd95021f",
   "metadata": {},
   "outputs": [
    {
     "data": {
      "text/plain": [
       "array(['Horror', 'Romance', 'SciFi', 'Action', 'Thriller', 'Comedy',\n",
       "       'Sci-Fi', 'Drama', 'Documentary'], dtype=object)"
      ]
     },
     "execution_count": 104,
     "metadata": {},
     "output_type": "execute_result"
    }
   ],
   "source": [
    "df[\"Genre\"].unique()\n",
    "# ** Two Sci-Fi"
   ]
  },
  {
   "cell_type": "code",
   "execution_count": 105,
   "id": "29eff00d-b91e-4f98-be9e-14840b448c39",
   "metadata": {},
   "outputs": [],
   "source": [
    "df[\"Genre\"]=df[\"Genre\"].replace({'SciFi':'Sci-Fi'})"
   ]
  },
  {
   "cell_type": "code",
   "execution_count": 106,
   "id": "99a2371f-d792-403f-b051-495b128b6174",
   "metadata": {},
   "outputs": [
    {
     "data": {
      "text/plain": [
       "array(['Horror', 'Romance', 'Sci-Fi', 'Action', 'Thriller', 'Comedy',\n",
       "       'Drama', 'Documentary'], dtype=object)"
      ]
     },
     "execution_count": 106,
     "metadata": {},
     "output_type": "execute_result"
    }
   ],
   "source": [
    "df['Genre'].unique()"
   ]
  },
  {
   "cell_type": "code",
   "execution_count": 107,
   "id": "eed5ba60-6ea3-4503-bccf-a436f8873a10",
   "metadata": {},
   "outputs": [],
   "source": [
    "# Check for invalid entries\n",
    "df = df[df[\"Rotten Tomatoes\"] <100]"
   ]
  },
  {
   "cell_type": "code",
   "execution_count": 108,
   "id": "9a471d2f-5e06-49a6-8f91-8c770828c2a0",
   "metadata": {},
   "outputs": [
    {
     "data": {
      "text/html": [
       "<div>\n",
       "<style scoped>\n",
       "    .dataframe tbody tr th:only-of-type {\n",
       "        vertical-align: middle;\n",
       "    }\n",
       "\n",
       "    .dataframe tbody tr th {\n",
       "        vertical-align: top;\n",
       "    }\n",
       "\n",
       "    .dataframe thead th {\n",
       "        text-align: right;\n",
       "    }\n",
       "</style>\n",
       "<table border=\"1\" class=\"dataframe\">\n",
       "  <thead>\n",
       "    <tr style=\"text-align: right;\">\n",
       "      <th></th>\n",
       "      <th>Rotten Tomatoes</th>\n",
       "      <th>IMDB</th>\n",
       "      <th>Audience Ratings</th>\n",
       "      <th>Budget_M</th>\n",
       "      <th>Sales Revenue_M</th>\n",
       "      <th>Year of Release</th>\n",
       "    </tr>\n",
       "  </thead>\n",
       "  <tbody>\n",
       "    <tr>\n",
       "      <th>count</th>\n",
       "      <td>94.00000</td>\n",
       "      <td>94.000000</td>\n",
       "      <td>94.000000</td>\n",
       "      <td>94.000000</td>\n",
       "      <td>89.000000</td>\n",
       "      <td>94.000000</td>\n",
       "    </tr>\n",
       "    <tr>\n",
       "      <th>mean</th>\n",
       "      <td>49.06383</td>\n",
       "      <td>5.523404</td>\n",
       "      <td>5284.414894</td>\n",
       "      <td>5855.070637</td>\n",
       "      <td>248.757629</td>\n",
       "      <td>2002.031915</td>\n",
       "    </tr>\n",
       "    <tr>\n",
       "      <th>std</th>\n",
       "      <td>29.66110</td>\n",
       "      <td>2.647353</td>\n",
       "      <td>2881.563496</td>\n",
       "      <td>26265.079627</td>\n",
       "      <td>155.999116</td>\n",
       "      <td>12.928631</td>\n",
       "    </tr>\n",
       "    <tr>\n",
       "      <th>min</th>\n",
       "      <td>0.00000</td>\n",
       "      <td>1.100000</td>\n",
       "      <td>437.000000</td>\n",
       "      <td>3.274064</td>\n",
       "      <td>7.803032</td>\n",
       "      <td>1980.000000</td>\n",
       "    </tr>\n",
       "    <tr>\n",
       "      <th>25%</th>\n",
       "      <td>23.25000</td>\n",
       "      <td>3.225000</td>\n",
       "      <td>2842.750000</td>\n",
       "      <td>49.030044</td>\n",
       "      <td>123.031593</td>\n",
       "      <td>1991.250000</td>\n",
       "    </tr>\n",
       "    <tr>\n",
       "      <th>50%</th>\n",
       "      <td>48.50000</td>\n",
       "      <td>5.350000</td>\n",
       "      <td>5450.500000</td>\n",
       "      <td>97.502337</td>\n",
       "      <td>212.016126</td>\n",
       "      <td>2002.500000</td>\n",
       "    </tr>\n",
       "    <tr>\n",
       "      <th>75%</th>\n",
       "      <td>72.75000</td>\n",
       "      <td>7.700000</td>\n",
       "      <td>7726.500000</td>\n",
       "      <td>155.536933</td>\n",
       "      <td>407.483240</td>\n",
       "      <td>2013.000000</td>\n",
       "    </tr>\n",
       "    <tr>\n",
       "      <th>max</th>\n",
       "      <td>99.00000</td>\n",
       "      <td>9.900000</td>\n",
       "      <td>9882.000000</td>\n",
       "      <td>160159.381000</td>\n",
       "      <td>497.200395</td>\n",
       "      <td>2023.000000</td>\n",
       "    </tr>\n",
       "  </tbody>\n",
       "</table>\n",
       "</div>"
      ],
      "text/plain": [
       "       Rotten Tomatoes       IMDB  Audience Ratings       Budget_M  \\\n",
       "count         94.00000  94.000000         94.000000      94.000000   \n",
       "mean          49.06383   5.523404       5284.414894    5855.070637   \n",
       "std           29.66110   2.647353       2881.563496   26265.079627   \n",
       "min            0.00000   1.100000        437.000000       3.274064   \n",
       "25%           23.25000   3.225000       2842.750000      49.030044   \n",
       "50%           48.50000   5.350000       5450.500000      97.502337   \n",
       "75%           72.75000   7.700000       7726.500000     155.536933   \n",
       "max           99.00000   9.900000       9882.000000  160159.381000   \n",
       "\n",
       "       Sales Revenue_M  Year of Release  \n",
       "count        89.000000        94.000000  \n",
       "mean        248.757629      2002.031915  \n",
       "std         155.999116        12.928631  \n",
       "min           7.803032      1980.000000  \n",
       "25%         123.031593      1991.250000  \n",
       "50%         212.016126      2002.500000  \n",
       "75%         407.483240      2013.000000  \n",
       "max         497.200395      2023.000000  "
      ]
     },
     "execution_count": 108,
     "metadata": {},
     "output_type": "execute_result"
    }
   ],
   "source": [
    "df.describe()"
   ]
  },
  {
   "cell_type": "code",
   "execution_count": 109,
   "id": "c48fae90-887a-4ec6-8150-07fa23ef3596",
   "metadata": {},
   "outputs": [
    {
     "data": {
      "image/png": "[encoded data removed]",
      "text/plain": [
       "<Figure size 640x480 with 1 Axes>"
      ]
     },
     "metadata": {},
     "output_type": "display_data"
    }
   ],
   "source": [
    "sns.histplot(df[\"Sales Revenue_M\"], kde=True)\n",
    "plt.title(f\"Histogram and Density Plot of Sales Revenue\")\n",
    "plt.show()"
   ]
  },
  {
   "cell_type": "code",
   "execution_count": 110,
   "id": "df3e8531-65e3-4a29-90e0-d785a0f068bb",
   "metadata": {},
   "outputs": [
    {
     "data": {
      "image/png": "[encoded data removed]",
      "text/plain": [
       "<Figure size 640x480 with 1 Axes>"
      ]
     },
     "metadata": {},
     "output_type": "display_data"
    }
   ],
   "source": [
    "sns.boxplot(x=df[\"Sales Revenue_M\"])\n",
    "plt.title(f\"Box Plot of Sales Revenue\")\n",
    "plt.show()"
   ]
  },
  {
   "cell_type": "code",
   "execution_count": 111,
   "id": "7280407f-26d3-4b64-a748-e24f847194b5",
   "metadata": {},
   "outputs": [
    {
     "data": {
      "image/png": "[encoded data removed]",
      "text/plain": [
       "<Figure size 640x480 with 1 Axes>"
      ]
     },
     "metadata": {},
     "output_type": "display_data"
    }
   ],
   "source": [
    "sns.histplot(df[\"Budget_M\"], kde=True)\n",
    "plt.title(f\"Histogram and Density Plot of Budget\")\n",
    "plt.show()"
   ]
  },
  {
   "cell_type": "markdown",
   "id": "589e431f-8985-4522-80e9-9e1084ad8d78",
   "metadata": {},
   "source": [
    "## 1. Imputation Techniques Comparison\n",
    "Initial visualizations, checking data types, and identifying any errors or inconsistencies in your dataset."
   ]
  },
  {
   "cell_type": "markdown",
   "id": "b14dbf11-8175-4c6b-89e5-bf1fbf3a69ca",
   "metadata": {},
   "source": [
    "Missing 5 values from Sales Revenue_M\n",
    "+ There's little skewness to the right\n",
    "+ Here we can ***Impute the median for the missing values***\n",
    "+ This would narrow our range, make distribution more normal"
   ]
  },
  {
   "cell_type": "code",
   "execution_count": 112,
   "id": "68621d25-c695-423e-a209-3c87f911f0c9",
   "metadata": {},
   "outputs": [],
   "source": [
    "median = df['Sales Revenue_M'].fillna(df['Sales Revenue_M'].median(),inplace=True)"
   ]
  },
  {
   "cell_type": "code",
   "execution_count": 113,
   "id": "86f17392-e4ac-4116-8640-bdbba41f2df0",
   "metadata": {},
   "outputs": [
    {
     "name": "stdout",
     "output_type": "stream",
     "text": [
      "Missing data:\n",
      " Genre               0\n",
      "Rotten Tomatoes     0\n",
      "IMDB                0\n",
      "Audience Ratings    0\n",
      "Budget_M            0\n",
      "Sales Revenue_M     0\n",
      "Year of Release     0\n",
      "dtype: int64\n"
     ]
    }
   ],
   "source": [
    "missing_data=df.isnull().sum()\n",
    "print(\"Missing data:\\n\", missing_data)"
   ]
  },
  {
   "cell_type": "markdown",
   "id": "e8c0699b-3a15-4bf7-a363-a8c854004c15",
   "metadata": {},
   "source": [
    "## 4. Outlier Identification and Handling\n",
    "\n",
    "So, we used the 1.5*IQR method to find the outliers (there are 5 of them). We decided to remove them."
   ]
  },
  {
   "cell_type": "code",
   "execution_count": 114,
   "id": "db63b9fe-2805-4139-a687-b5d4a2d6f2a9",
   "metadata": {},
   "outputs": [
    {
     "data": {
      "text/plain": [
       "count        94.000000\n",
       "mean       5855.070637\n",
       "std       26265.079627\n",
       "min           3.274064\n",
       "25%          49.030044\n",
       "50%          97.502337\n",
       "75%         155.536933\n",
       "max      160159.381000\n",
       "Name: Budget_M, dtype: float64"
      ]
     },
     "execution_count": 114,
     "metadata": {},
     "output_type": "execute_result"
    }
   ],
   "source": [
    "df['Budget_M'].describe()"
   ]
  },
  {
   "cell_type": "code",
   "execution_count": 115,
   "id": "662570f0-ebd0-4c8c-8a90-84e0c1f8e630",
   "metadata": {},
   "outputs": [],
   "source": [
    "IQR = 155.536933 - 3.274064\n",
    "IQR1 = IQR*1.5"
   ]
  },
  {
   "cell_type": "code",
   "execution_count": 116,
   "id": "33635195-89fa-424e-a729-4bb565d927e8",
   "metadata": {},
   "outputs": [],
   "source": [
    "Q1_Outlier = 49.03004 - IQR1"
   ]
  },
  {
   "cell_type": "code",
   "execution_count": 117,
   "id": "63c69d86-2003-4d68-9ca0-76ac88eeadcf",
   "metadata": {},
   "outputs": [],
   "source": [
    "Q3_Outlier = 155.536933 + IQR1"
   ]
  },
  {
   "cell_type": "code",
   "execution_count": 118,
   "id": "57ec1714-e4f6-4eaf-a410-e95e0db29f0f",
   "metadata": {},
   "outputs": [
    {
     "data": {
      "text/plain": [
       "46     52625.09030\n",
       "54    160159.38100\n",
       "65    136597.10960\n",
       "81     66216.35991\n",
       "98    126150.78940\n",
       "Name: Budget_M, dtype: float64"
      ]
     },
     "execution_count": 118,
     "metadata": {},
     "output_type": "execute_result"
    }
   ],
   "source": [
    "df.loc[df['Budget_M']>Q3_Outlier,'Budget_M']"
   ]
  },
  {
   "cell_type": "code",
   "execution_count": 119,
   "id": "d1b5e47f-e2f4-4bb0-8902-49b5919dba2d",
   "metadata": {},
   "outputs": [],
   "source": [
    "df.loc[df['Budget_M']>Q3_Outlier,'Budget_M'] = None"
   ]
  },
  {
   "cell_type": "code",
   "execution_count": 120,
   "id": "0c9f83ac-99be-4aa7-b913-95fddabc200b",
   "metadata": {},
   "outputs": [
    {
     "data": {
      "text/plain": [
       "Series([], Name: Budget_M, dtype: float64)"
      ]
     },
     "execution_count": 120,
     "metadata": {},
     "output_type": "execute_result"
    }
   ],
   "source": [
    "df.loc[df['Budget_M']>Q3_Outlier,'Budget_M']"
   ]
  },
  {
   "cell_type": "code",
   "execution_count": 121,
   "id": "e79e9b2f-1d14-41f1-9322-462fa2b1e0a6",
   "metadata": {},
   "outputs": [
    {
     "data": {
      "image/png": "[encoded data removed]",
      "text/plain": [
       "<Figure size 640x480 with 1 Axes>"
      ]
     },
     "metadata": {},
     "output_type": "display_data"
    }
   ],
   "source": [
    "sns.histplot(df[\"Budget_M\"], kde=True)\n",
    "plt.title(f\"Histogram and Density Plot of Budget\")\n",
    "plt.show()"
   ]
  },
  {
   "cell_type": "code",
   "execution_count": 122,
   "id": "d8bf06d1-5e1f-4c65-9b95-afdbfc153a1c",
   "metadata": {},
   "outputs": [
    {
     "data": {
      "image/png": "[encoded data removed]",
      "text/plain": [
       "<Figure size 640x480 with 1 Axes>"
      ]
     },
     "metadata": {},
     "output_type": "display_data"
    }
   ],
   "source": [
    "sns.boxplot(x=df[\"Sales Revenue_M\"])\n",
    "plt.title(f\"Box Plot of\")\n",
    "plt.show()"
   ]
  },
  {
   "cell_type": "markdown",
   "id": "3cb497f0-a59b-43f1-ba43-606da3853fc2",
   "metadata": {},
   "source": [
    "## 5. Handling Missing Values"
   ]
  },
  {
   "cell_type": "markdown",
   "id": "486d1539-ab4b-4239-b0c8-3ba5e94cdfaf",
   "metadata": {},
   "source": [
    "We also had missing data in #1, and we replaced it with the median. Other strategies we could've done are:\n",
    "+ Remove it completely (if the data is irrelevent/invalid)\n",
    "+ Impute with the mean (if the data was normal)\n",
    "+ Impute with the median (like we did in #1, since the data was skewed to the right)\n",
    "+ Impute the mode (if the data is categorical, if there's a category that is **dominant**)"
   ]
  },
  {
   "cell_type": "code",
   "execution_count": null,
   "id": "977f200d-34b8-4de2-bdc7-61541a52e278",
   "metadata": {},
   "outputs": [],
   "source": []
  }
 ],
 "metadata": {
  "kernelspec": {
   "display_name": "Python 3 (ipykernel)",
   "language": "python",
   "name": "python3"
  },
  "language_info": {
   "codemirror_mode": {
    "name": "ipython",
    "version": 3
   },
   "file_extension": ".py",
   "mimetype": "text/x-python",
   "name": "python",
   "nbconvert_exporter": "python",
   "pygments_lexer": "ipython3",
   "version": "3.10.12"
  }
 },
 "nbformat": 4,
 "nbformat_minor": 5
}
